{
  "nbformat": 4,
  "nbformat_minor": 0,
  "metadata": {
    "colab": {
      "provenance": []
    },
    "kernelspec": {
      "name": "python3",
      "display_name": "Python 3"
    },
    "language_info": {
      "name": "python"
    }
  },
  "cells": [
    {
      "cell_type": "code",
      "execution_count": 6,
      "metadata": {
        "id": "P7bugnA0MceW"
      },
      "outputs": [],
      "source": [
        "import numpy as np\n",
        "import matplotlib.pyplot as plt\n",
        "import pandas as pd"
      ]
    },
    {
      "cell_type": "code",
      "source": [
        "dataset = pd.read_csv('package_tourism.csv')\n",
        "x = dataset.iloc[:, [2,3]].values\n",
        "y = dataset.iloc[:, -1].values"
      ],
      "metadata": {
        "id": "9mGZWB0-Qrb1"
      },
      "execution_count": 11,
      "outputs": []
    },
    {
      "cell_type": "code",
      "source": [
        "print(x)"
      ],
      "metadata": {
        "id": "ErsW0uhuQtJr",
        "colab": {
          "base_uri": "https://localhost:8080/"
        },
        "outputId": "2d8613f9-83b4-45e2-e76e-dac06b4257f9"
      },
      "execution_count": 12,
      "outputs": [
        {
          "output_type": "stream",
          "name": "stdout",
          "text": [
            "[['Pasar Tanah Abang' 'Taman Ayodya']\n",
            " ['Pasar Tanah Abang' 'Pasar Taman Puring']\n",
            " ['Perpustakaan Nasional' 'Monas']\n",
            " ['Pulau Tidung' 'Pulau Bidadari']\n",
            " ['Museum Satria Mandala' 'Museum Wayang']\n",
            " ['Waterboom PIK (Pantai Indah Kapuk)' 'Jakarta Aquarium dan Safari']\n",
            " ['Alive Museum Ancol' 'Ocean Ecopark']\n",
            " ['Kota Tua' 'Museum Bank Indonesia']\n",
            " ['Galeri Nasional Indonesia' 'Museum Seni Rupa dan Kramik']\n",
            " ['Taman Impian Jaya Ancol' 'Kota Tua']\n",
            " ['Kota Tua' 'Jembatan Kota Intan']\n",
            " ['Hutan Kota Srengseng' 'Taman Cattleya']\n",
            " ['Taman Mini Indonesia Indah (TMII)' 'Museum Satria Mandala']\n",
            " ['Pasar Tanah Abang' 'Pasar Taman Puring']\n",
            " ['Mall Thamrin City' 'Grand Indonesia Mall']\n",
            " ['Museum Joang 45' 'Museum Fatahillah']\n",
            " ['Museum Sumpah Pemuda' 'Tugu Proklamasi']\n",
            " ['Klenteng Jin De Yuan' 'Masjid Istiqlal']\n",
            " ['Taman Menteng' 'Taman Suropati']\n",
            " ['Wisata Agro Edukatif Istana Susu Cibugary' 'Bumi Perkemahan Cibubur']\n",
            " ['Nol Kilometer Jl.Malioboro' 'Alun Alun Selatan Yogyakarta']\n",
            " ['Air Terjun Kedung Pedut' 'Puncak Gunung Api Purba - Nglanggeran']\n",
            " ['Alun-alun Utara Keraton Yogyakarta' 'Candi Ijo']\n",
            " ['Pantai Indrayanti' 'Pantai Nglambor']\n",
            " ['Candi Ijo' 'Pasar Beringharjo']\n",
            " ['Hutan Pinus Pengger' 'Bentara Budaya Yogyakarta (BBY)']\n",
            " ['Candi Prambanan' 'Candi Borobudur']\n",
            " ['Pantai Patihan' 'Pantai Kukup']\n",
            " ['Gembira Loka Zoo' 'Kampung Wisata Kadipaten']\n",
            " ['The Lost World Castle' 'Monumen Sanapati']\n",
            " ['Puncak Segoro' 'Taman Pelangi Jogja']\n",
            " ['Bukit Wisata Pulepayung' 'Hutan Pinus Asri']\n",
            " ['Pantai Glagah' 'Pantai Drini']\n",
            " ['Desa Wisata Sungai Code Jogja Kota' 'Kawasan Malioboro']\n",
            " ['Kampung Wisata Taman Sari' 'Monumen Serangan Umum 1 Maret']\n",
            " ['Jurang Tembelan Kanigoro' 'Lava Bantal']\n",
            " ['De Mata Museum Jogja' 'Kampung Wisata Kadipaten']\n",
            " ['Watu Lumbung' 'Bunker Kaliadem Merapi']\n",
            " ['Sindu Kusuma Edupark (SKE)' 'Taman Pelangi Yogyakarta']\n",
            " ['Pasar Beringharjo' 'Pasar Kebon Empring Bintaran']\n",
            " ['Dago Dreampark' 'Orchid Forest Cikole']\n",
            " ['Gunung Tangkuban Perahu' 'Gunung Papandayan']\n",
            " ['Museum Geologi Bandung' 'Museum Sri Baduga']\n",
            " ['Museum Konferensi Asia Afrika' 'Monumen Perjuangan Rakyat Jawa Barat']\n",
            " ['Kyotoku Floating Market' 'Mountain View Golf Club']\n",
            " ['Glamping Lakeside Rancabali' 'Taman Miniatur Kereta Api']\n",
            " ['Gereja Katedral Santo Petrus Bandung' 'Masjid Pusdai']\n",
            " ['Caringin Tilu' 'Curug Anom']\n",
            " ['NuArt Sculpture Park' 'Pesona Nirwana Waterpark & Cottages']\n",
            " ['Taman Hutan Raya Ir. H. Djuanda' 'Tebing Karaton']\n",
            " ['Situ Patenggang' 'Rainbow Garden']\n",
            " ['Taman Begonia' 'Curug Malela']\n",
            " ['Alun-Alun Kota Bandung' 'Taman Balai Kota Bandung']\n",
            " ['Rainbow Garden' 'Kota Mini']\n",
            " ['Masjid Raya Bandung' 'Taman Lansia']\n",
            " ['Kawah Putih' 'Panghegar Waterboom Bandung']\n",
            " ['Museum Gedung Sate' 'Roemah Seni Sarasvati']\n",
            " ['Kebun Binatang Bandung' 'Lembang Park & Zoo']\n",
            " ['Kawasan Punclut' 'Lawangwangi Creative Space']\n",
            " ['Curug Dago' 'Curug Batu Templek']\n",
            " ['Candi Gedong Songo' 'Lawang Sewu']\n",
            " ['Grand Maerakaca' 'Kampung Pelangi']\n",
            " ['Pantai Baruna' 'Pantai Marina']\n",
            " ['Indonesia Kaya Park' 'Taman Pandanaran']\n",
            " ['Jembatan Biru Ambarawa' 'Masjid Agung Ungaran']\n",
            " ['Air Terjun Semirang' 'Obyek Wisata Goa Kreo']\n",
            " ['Saloka Theme Park' 'Water Blaster Bukit Candi Golf']\n",
            " ['Water Blaster Bukit Candi Golf' 'Kampung Batik Gedong Semarang']\n",
            " ['Waduk Jatibarang' 'Wisata Lereng Kelir']\n",
            " ['Kampoeng Djadhoel Semarang' 'Pura Giri Natha']\n",
            " ['Wisata Lereng Kelir' 'Monumen Palagan Ambarawa']\n",
            " ['GPIB Immanuel Semarang (Gereja Blenduk)' 'Masjid Kapal Semarang']\n",
            " ['Monumen Palagan Ambarawa' 'Benteng Pendem']\n",
            " ['Kampung Pelangi' 'Hutan Wisata Tinjomoyo Semarang']\n",
            " ['Wisata Mangrove Tapak' 'Umbul Sidomukti']\n",
            " ['Candi Gedong Songo' 'Grand Maerakaca']\n",
            " ['Tirto Argo Siwarak' 'Wisata Eling Bening']\n",
            " ['Pantai Baruna' 'Pantai Marina']\n",
            " ['Waduk Jatibarang' 'Kampoeng Rawa']\n",
            " ['Desa Wisata Lembah Kalipancur' 'Masjid Kapal Semarang']\n",
            " ['Taman Prestasi' 'Taman Keputran']\n",
            " ['Museum Sepuluh Nopember Kota Surabaya' 'Museum Kesehatan Dr. Adhyatma']\n",
            " ['Masjid Muhammad Cheng Hoo' 'Masjid Nasional Al-Akbar']\n",
            " ['Ciputra Waterpark' 'Kenjeran Park']\n",
            " ['Air Mancur Menari' 'Monumen Kapal Selam']\n",
            " ['Museum De Javasche Bank' 'Surabaya Museum (Gedung Siola)']\n",
            " ['Surabaya North Quay' 'Waterpark Kenjeran Surabaya']\n",
            " ['Taman Buah Surabaya' 'Taman Pelangi']\n",
            " ['Rumah Batik' 'Jembatan Merah']\n",
            " ['Monumen Tugu Pahlawan' 'Monumen Jalesveva Jayamahe']\n",
            " ['Ekowisata Mangrove Wonorejo' 'Taman Harmoni Keputih']\n",
            " ['Taman Kunang-Kunang' 'Taman Ekspresi Dan Perpustakaan']\n",
            " ['Museum TNI AL Loka Jala Crana' 'Klenteng Sanggar Agung']\n",
            " ['Taman Buah Surabaya' 'Taman Pelangi']\n",
            " ['Museum TNI AL Loka Jala Crana' 'Taman Hiburan Rakyat']\n",
            " ['Ekowisata Mangrove Wonorejo' 'Taman Harmoni Keputih']\n",
            " ['Ciputra Waterpark' 'Kenjeran Park']\n",
            " ['Museum Kesehatan Dr. Adhyatma' 'Patung Buddha Empat Rupa']\n",
            " ['Taman Ekspresi Dan Perpustakaan' 'Museum De Javasche Bank']\n",
            " ['Taman Buah Surabaya' 'Hutan Bambu Keputih']]\n"
          ]
        }
      ]
    },
    {
      "cell_type": "code",
      "source": [
        "print(y)"
      ],
      "metadata": {
        "colab": {
          "base_uri": "https://localhost:8080/"
        },
        "id": "5QRe4gHLUZAy",
        "outputId": "fc943e47-c04a-4a9d-cad6-916d947688a2"
      },
      "execution_count": 13,
      "outputs": [
        {
          "output_type": "stream",
          "name": "stdout",
          "text": [
            "[nan nan nan 'Pulau Pelangi' nan nan nan 'Masjid Istiqlal' nan\n",
            " 'Museum Wayang' nan nan nan nan nan 'Museum Nasional' 'Museum Perangko'\n",
            " nan 'Taman Spathodea' 'Taman Lapangan Banteng' 'Bendung Lepen' nan nan\n",
            " 'Pantai Krakal' nan nan nan 'Pantai Samas' nan nan nan 'Wisata Kalibiru'\n",
            " 'Pantai Ngrenehan' nan 'Bukit Paralayang, Watugupit' nan nan\n",
            " 'Wisata Kaliurang' nan nan nan 'Curug Batu Templek' 'Museum Nike Ardilla'\n",
            " nan nan nan nan nan 'Chingu Cafe Little Seoul' '| Peta Park' nan\n",
            " 'Stone Garden Geopark' 'Ade Irma Suryani Nasution Traffic Park' nan nan\n",
            " nan 'Museum Nike Ardilla' nan 'Curug Bugbrug' 'Curug Luhur Waterfall' nan\n",
            " nan nan nan 'Kampung Tematik Jawi'\n",
            " 'Durian Gardens and Tourism Education Watu Simbar' nan nan\n",
            " 'Gua Maria Kerep Ambarawa' nan 'Hutan Pinus Kayon' nan\n",
            " 'Semarang Chinatown' nan nan nan nan nan nan nan nan 'Keraton Surabaya'\n",
            " 'Gereja Perawan Maria Tak Berdosa Surabaya' nan nan nan nan nan\n",
            " 'Patung Sura dan Buaya' 'House of Sampoerna' nan nan\n",
            " 'Taman Hiburan Rakyat' 'Kebun Bibit Wonorejo' nan\n",
            " 'Museum De Javasche Bank' '| Atlantis Land Surabaya'\n",
            " 'Taman Flora Bratang Surabaya' 'Taman Air Mancur Menari Kenjeran'\n",
            " 'Taman Mundu']\n"
          ]
        }
      ]
    },
    {
      "cell_type": "code",
      "source": [
        "from sklearn.model_selection import train_test_split\n",
        "x_train, x_test, y_train, y_test = train_test_split(x,y, test_size=0.25, random_state=0)"
      ],
      "metadata": {
        "id": "Txuoz6YbV3DY"
      },
      "execution_count": 15,
      "outputs": []
    },
    {
      "cell_type": "code",
      "source": [
        "print(x_train)"
      ],
      "metadata": {
        "colab": {
          "base_uri": "https://localhost:8080/"
        },
        "id": "IAxcDz5EWPdO",
        "outputId": "64373e29-9b30-4d87-e16e-384a5db7e520"
      },
      "execution_count": 16,
      "outputs": [
        {
          "output_type": "stream",
          "name": "stdout",
          "text": [
            "[['NuArt Sculpture Park' 'Pesona Nirwana Waterpark & Cottages']\n",
            " ['Alive Museum Ancol' 'Ocean Ecopark']\n",
            " ['Taman Buah Surabaya' 'Hutan Bambu Keputih']\n",
            " ['Masjid Muhammad Cheng Hoo' 'Masjid Nasional Al-Akbar']\n",
            " ['Tirto Argo Siwarak' 'Wisata Eling Bening']\n",
            " ['Candi Gedong Songo' 'Lawang Sewu']\n",
            " ['Taman Prestasi' 'Taman Keputran']\n",
            " ['Ekowisata Mangrove Wonorejo' 'Taman Harmoni Keputih']\n",
            " ['Waduk Jatibarang' 'Wisata Lereng Kelir']\n",
            " ['Taman Begonia' 'Curug Malela']\n",
            " ['Pantai Patihan' 'Pantai Kukup']\n",
            " ['Taman Menteng' 'Taman Suropati']\n",
            " ['Museum Gedung Sate' 'Roemah Seni Sarasvati']\n",
            " ['Indonesia Kaya Park' 'Taman Pandanaran']\n",
            " ['Wisata Mangrove Tapak' 'Umbul Sidomukti']\n",
            " ['Pasar Tanah Abang' 'Pasar Taman Puring']\n",
            " ['Grand Maerakaca' 'Kampung Pelangi']\n",
            " ['Museum Geologi Bandung' 'Museum Sri Baduga']\n",
            " ['Gunung Tangkuban Perahu' 'Gunung Papandayan']\n",
            " ['Museum Satria Mandala' 'Museum Wayang']\n",
            " ['Museum Joang 45' 'Museum Fatahillah']\n",
            " ['Klenteng Jin De Yuan' 'Masjid Istiqlal']\n",
            " ['Dago Dreampark' 'Orchid Forest Cikole']\n",
            " ['Sindu Kusuma Edupark (SKE)' 'Taman Pelangi Yogyakarta']\n",
            " ['Waterboom PIK (Pantai Indah Kapuk)' 'Jakarta Aquarium dan Safari']\n",
            " ['Taman Kunang-Kunang' 'Taman Ekspresi Dan Perpustakaan']\n",
            " ['Curug Dago' 'Curug Batu Templek']\n",
            " ['Pasar Tanah Abang' 'Taman Ayodya']\n",
            " ['Kampung Wisata Taman Sari' 'Monumen Serangan Umum 1 Maret']\n",
            " ['Gembira Loka Zoo' 'Kampung Wisata Kadipaten']\n",
            " ['Situ Patenggang' 'Rainbow Garden']\n",
            " ['Hutan Kota Srengseng' 'Taman Cattleya']\n",
            " ['Jurang Tembelan Kanigoro' 'Lava Bantal']\n",
            " ['Pantai Indrayanti' 'Pantai Nglambor']\n",
            " ['Alun-Alun Kota Bandung' 'Taman Balai Kota Bandung']\n",
            " ['Kota Tua' 'Jembatan Kota Intan']\n",
            " ['Bukit Wisata Pulepayung' 'Hutan Pinus Asri']\n",
            " ['Saloka Theme Park' 'Water Blaster Bukit Candi Golf']\n",
            " ['Kebun Binatang Bandung' 'Lembang Park & Zoo']\n",
            " ['Desa Wisata Lembah Kalipancur' 'Masjid Kapal Semarang']\n",
            " ['Museum De Javasche Bank' 'Surabaya Museum (Gedung Siola)']\n",
            " ['Pantai Glagah' 'Pantai Drini']\n",
            " ['Air Mancur Menari' 'Monumen Kapal Selam']\n",
            " ['Mall Thamrin City' 'Grand Indonesia Mall']\n",
            " ['Monumen Tugu Pahlawan' 'Monumen Jalesveva Jayamahe']\n",
            " ['Wisata Agro Edukatif Istana Susu Cibugary' 'Bumi Perkemahan Cibubur']\n",
            " ['The Lost World Castle' 'Monumen Sanapati']\n",
            " ['Taman Hutan Raya Ir. H. Djuanda' 'Tebing Karaton']\n",
            " ['Museum Kesehatan Dr. Adhyatma' 'Patung Buddha Empat Rupa']\n",
            " ['Taman Ekspresi Dan Perpustakaan' 'Museum De Javasche Bank']\n",
            " ['Kampoeng Djadhoel Semarang' 'Pura Giri Natha']\n",
            " ['Nol Kilometer Jl.Malioboro' 'Alun Alun Selatan Yogyakarta']\n",
            " ['Museum TNI AL Loka Jala Crana' 'Taman Hiburan Rakyat']\n",
            " ['Monumen Palagan Ambarawa' 'Benteng Pendem']\n",
            " ['Pantai Baruna' 'Pantai Marina']\n",
            " ['Hutan Pinus Pengger' 'Bentara Budaya Yogyakarta (BBY)']\n",
            " ['Watu Lumbung' 'Bunker Kaliadem Merapi']\n",
            " ['Museum Sepuluh Nopember Kota Surabaya' 'Museum Kesehatan Dr. Adhyatma']\n",
            " ['Gereja Katedral Santo Petrus Bandung' 'Masjid Pusdai']\n",
            " ['Pasar Beringharjo' 'Pasar Kebon Empring Bintaran']\n",
            " ['Air Terjun Semirang' 'Obyek Wisata Goa Kreo']\n",
            " ['Kawasan Punclut' 'Lawangwangi Creative Space']\n",
            " ['Taman Mini Indonesia Indah (TMII)' 'Museum Satria Mandala']\n",
            " ['Rumah Batik' 'Jembatan Merah']\n",
            " ['Wisata Lereng Kelir' 'Monumen Palagan Ambarawa']\n",
            " ['Taman Buah Surabaya' 'Taman Pelangi']\n",
            " ['De Mata Museum Jogja' 'Kampung Wisata Kadipaten']\n",
            " ['Air Terjun Kedung Pedut' 'Puncak Gunung Api Purba - Nglanggeran']\n",
            " ['Ciputra Waterpark' 'Kenjeran Park']\n",
            " ['Taman Impian Jaya Ancol' 'Kota Tua']\n",
            " ['Ciputra Waterpark' 'Kenjeran Park']\n",
            " ['Water Blaster Bukit Candi Golf' 'Kampung Batik Gedong Semarang']\n",
            " ['Jembatan Biru Ambarawa' 'Masjid Agung Ungaran']\n",
            " ['Caringin Tilu' 'Curug Anom']\n",
            " ['Kyotoku Floating Market' 'Mountain View Golf Club']]\n"
          ]
        }
      ]
    },
    {
      "cell_type": "code",
      "source": [
        "print(x_test)"
      ],
      "metadata": {
        "colab": {
          "base_uri": "https://localhost:8080/"
        },
        "id": "MPYOkgTbW5aC",
        "outputId": "854ccee8-f3df-4f97-eb5f-a8acf0dd4e68"
      },
      "execution_count": 17,
      "outputs": [
        {
          "output_type": "stream",
          "name": "stdout",
          "text": [
            "[['Candi Prambanan' 'Candi Borobudur']\n",
            " ['Surabaya North Quay' 'Waterpark Kenjeran Surabaya']\n",
            " ['Perpustakaan Nasional' 'Monas']\n",
            " ['Kawah Putih' 'Panghegar Waterboom Bandung']\n",
            " ['Candi Gedong Songo' 'Grand Maerakaca']\n",
            " ['Taman Buah Surabaya' 'Taman Pelangi']\n",
            " ['Museum Sumpah Pemuda' 'Tugu Proklamasi']\n",
            " ['Kampung Pelangi' 'Hutan Wisata Tinjomoyo Semarang']\n",
            " ['Masjid Raya Bandung' 'Taman Lansia']\n",
            " ['Ekowisata Mangrove Wonorejo' 'Taman Harmoni Keputih']\n",
            " ['Rainbow Garden' 'Kota Mini']\n",
            " ['Museum TNI AL Loka Jala Crana' 'Klenteng Sanggar Agung']\n",
            " ['Waduk Jatibarang' 'Kampoeng Rawa']\n",
            " ['Pasar Tanah Abang' 'Pasar Taman Puring']\n",
            " ['Kota Tua' 'Museum Bank Indonesia']\n",
            " ['Puncak Segoro' 'Taman Pelangi Jogja']\n",
            " ['Alun-alun Utara Keraton Yogyakarta' 'Candi Ijo']\n",
            " ['Candi Ijo' 'Pasar Beringharjo']\n",
            " ['Desa Wisata Sungai Code Jogja Kota' 'Kawasan Malioboro']\n",
            " ['Galeri Nasional Indonesia' 'Museum Seni Rupa dan Kramik']\n",
            " ['Museum Konferensi Asia Afrika' 'Monumen Perjuangan Rakyat Jawa Barat']\n",
            " ['Pantai Baruna' 'Pantai Marina']\n",
            " ['Pulau Tidung' 'Pulau Bidadari']\n",
            " ['GPIB Immanuel Semarang (Gereja Blenduk)' 'Masjid Kapal Semarang']\n",
            " ['Glamping Lakeside Rancabali' 'Taman Miniatur Kereta Api']]\n"
          ]
        }
      ]
    },
    {
      "cell_type": "code",
      "source": [
        "print(y_train)"
      ],
      "metadata": {
        "colab": {
          "base_uri": "https://localhost:8080/"
        },
        "id": "DQXZ20xDXJPb",
        "outputId": "f4029754-c119-4296-e330-830319eecd40"
      },
      "execution_count": 18,
      "outputs": [
        {
          "output_type": "stream",
          "name": "stdout",
          "text": [
            "['Chingu Cafe Little Seoul' nan 'Taman Mundu'\n",
            " 'Gereja Perawan Maria Tak Berdosa Surabaya' nan nan nan nan\n",
            " 'Gua Maria Kerep Ambarawa' 'Stone Garden Geopark' 'Pantai Samas'\n",
            " 'Taman Spathodea' 'Museum Nike Ardilla' nan nan nan nan\n",
            " 'Museum Nike Ardilla' 'Curug Batu Templek' nan 'Museum Nasional' nan nan\n",
            " nan nan nan 'Curug Luhur Waterfall' nan 'Bukit Paralayang, Watugupit' nan\n",
            " nan nan nan 'Pantai Krakal' 'Ade Irma Suryani Nasution Traffic Park' nan\n",
            " 'Wisata Kalibiru' nan nan nan nan 'Pantai Ngrenehan' nan nan\n",
            " 'House of Sampoerna' 'Taman Lapangan Banteng' nan '| Peta Park'\n",
            " 'Taman Flora Bratang Surabaya' 'Taman Air Mancur Menari Kenjeran' nan\n",
            " 'Bendung Lepen' nan 'Semarang Chinatown' nan nan 'Wisata Kaliurang'\n",
            " 'Keraton Surabaya' nan nan\n",
            " 'Durian Gardens and Tourism Education Watu Simbar' 'Curug Bugbrug' nan\n",
            " 'Patung Sura dan Buaya' 'Hutan Pinus Kayon' nan nan nan nan\n",
            " 'Museum Wayang' '| Atlantis Land Surabaya' nan 'Kampung Tematik Jawi' nan\n",
            " nan]\n"
          ]
        }
      ]
    },
    {
      "cell_type": "code",
      "source": [
        "print(y_test)"
      ],
      "metadata": {
        "colab": {
          "base_uri": "https://localhost:8080/"
        },
        "id": "zqMP3fxRXP7w",
        "outputId": "39a353ef-c768-45d0-da07-b9737bffd5cf"
      },
      "execution_count": 19,
      "outputs": [
        {
          "output_type": "stream",
          "name": "stdout",
          "text": [
            "[nan nan nan nan nan 'Kebun Bibit Wonorejo' 'Museum Perangko' nan nan\n",
            " 'Museum De Javasche Bank' nan 'Taman Hiburan Rakyat' nan nan\n",
            " 'Masjid Istiqlal' nan nan nan nan nan nan nan 'Pulau Pelangi' nan nan]\n"
          ]
        }
      ]
    },
    {
      "cell_type": "code",
      "source": [
        "from sklearn.preprocessing import StandardScaler\n",
        "sc = StandardScaler()\n",
        "x_train = sc.fit_transform(x_train)\n",
        "x_test = sc.transform(x_test)"
      ],
      "metadata": {
        "id": "n2DBalUiXTzw"
      },
      "execution_count": null,
      "outputs": []
    },
    {
      "cell_type": "code",
      "source": [
        "from sklearn.naive_bayes import GaussianNB\n",
        "classifier = GaussianNB()\n",
        "classifier.fit(x_train, y_train)"
      ],
      "metadata": {
        "id": "9cH8JBbMdamv"
      },
      "execution_count": null,
      "outputs": []
    },
    {
      "cell_type": "code",
      "source": [
        "y_pred = classifier.predict(x_test)"
      ],
      "metadata": {
        "id": "06AWtx7ud69q"
      },
      "execution_count": null,
      "outputs": []
    },
    {
      "cell_type": "code",
      "source": [
        "from sklearn.metrics import confusion_matrix\n",
        "cm = confusion_matrix(y_test, y_pred)"
      ],
      "metadata": {
        "id": "tuiX5rlEd_uO"
      },
      "execution_count": null,
      "outputs": []
    },
    {
      "cell_type": "code",
      "source": [
        "from matplotlib.colors import ListedColormap\n",
        "x_set, y_set = x_train, y_train\n",
        "x1, x2 = np.meshgrid(np.arange(start = x_set[:, 0].min()-1, stop = x_set[:, 0].max() +1, step=0.01)),\n",
        "                     np.arange(start = x_set[:, 1].min()-1, stop = x_set[:, 0].max() +1, step=0.01))\n",
        "plt.contourf(x1,x2, classifier,predict(np.array([x1.ravel(), x2.ravel()].T).reshape(x1.shape),alpha = 0.75, cmap = ListedColormap(('red','green')))\n",
        "plt.xlim(x1.min(), x1.max())\n",
        "plt.xlim(x2.min(), x2.max())\n",
        "for i, j in enumerate (np.unique(y_set)):\n",
        "  plt.scatter(x_set[y_set == j, 0], x_set[y_set==j, 1],\n",
        "              c = ListedColormap(('red','green'))(i), label = j) \n",
        "  plt.title('Klasifikasi Data dengan Naiive Bayes (Data Training)')\n",
        "  plt.xlabel('Umur')\n",
        "  plt.ylabel('Estimasi Gaji') \n",
        "  plt.legend()\n",
        "  plt.show                   "
      ],
      "metadata": {
        "id": "Nh4SYIcmeZiJ"
      },
      "execution_count": null,
      "outputs": []
    }
  ]
}