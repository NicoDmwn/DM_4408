{
  "nbformat": 4,
  "nbformat_minor": 0,
  "metadata": {
    "colab": {
      "provenance": []
    },
    "kernelspec": {
      "name": "python3",
      "display_name": "Python 3"
    },
    "language_info": {
      "name": "python"
    }
  },
  "cells": [
    {
      "cell_type": "code",
      "execution_count": null,
      "metadata": {
        "id": "1rogcDrVxrDA"
      },
      "outputs": [],
      "source": [
        "from sklearn import dataset\n",
        "from sklearn.cluster import KMeans\n",
        "from sklearn.preprocessing import StandardScaler\n",
        "from scipy.spatial.distance import cdist\n",
        "import matplotlib.pyplot as plt"
      ]
    },
    {
      "cell_type": "code",
      "source": [
        "iris = datasets.load_iris()\n",
        "features = iris.data\n",
        "plt.scatter(features[:,0], features[:,1])\n",
        "plt.show"
      ],
      "metadata": {
        "id": "MYAmVisS0RPQ"
      },
      "execution_count": null,
      "outputs": []
    },
    {
      "cell_type": "code",
      "source": [
        "scaler = StandardScaler()\n",
        "features_standardized = scaler.fit_transform(features)"
      ],
      "metadata": {
        "id": "FAPjSYhD0d01"
      },
      "execution_count": null,
      "outputs": []
    },
    {
      "cell_type": "code",
      "source": [
        "from sklearn.metrics import silhouette_samples, silhouette_score\n",
        "wcss = []\n",
        "for i in range(1, 11):\n",
        "  kmeans = KMeans(n_cluster=i, init='k-means++'),\n",
        "  max_iter=300, n_init=10, random_state=0)\n",
        "  kmeans.fit(features)\n",
        "  wcss.append(kmeans.inertia_)\n",
        "  plt.plot(range(1,11), wcss)\n",
        "  plt.title('Elbow Method')\n",
        "  plt.xlabel('Number of clusters')\n",
        "  plt.ylabel('WCSS')\n",
        "  plt.show()"
      ],
      "metadata": {
        "id": "xpx7Jkbs0n3F"
      },
      "execution_count": null,
      "outputs": []
    },
    {
      "cell_type": "code",
      "source": [
        "kmeans = KMeans(n_clusters=4, init='k-means++',\n",
        "                max_iter=300, n_init=10,random_state=0)\n",
        "pred_y = kmeans,fit_predict(features)\n",
        "plt.scatter(features[:,0], features[:,1])\n",
        "plt.scatter(kmeans.cluster_centers_[:,0],\n",
        "            kmeans.cluster_centers_[:,1], s=300, c='red')\n",
        "plt.show()"
      ],
      "metadata": {
        "id": "QkJwMEj62V57"
      },
      "execution_count": null,
      "outputs": []
    },
    {
      "cell_type": "markdown",
      "source": [
        "# Bagian Baru"
      ],
      "metadata": {
        "id": "4m7pZfiszzCX"
      }
    }
  ]
}