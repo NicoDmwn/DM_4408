{
  "nbformat": 4,
  "nbformat_minor": 0,
  "metadata": {
    "colab": {
      "provenance": []
    },
    "kernelspec": {
      "name": "python3",
      "display_name": "Python 3"
    },
    "language_info": {
      "name": "python"
    }
  },
  "cells": [
    {
      "cell_type": "code",
      "execution_count": 3,
      "metadata": {
        "id": "Uwsej1zUUYGr"
      },
      "outputs": [],
      "source": [
        "import numpy as np\n",
        "import matplotlib.pyplot as plt\n",
        "import pandas as pd"
      ]
    },
    {
      "cell_type": "markdown",
      "source": [
        "# Bagian Baru"
      ],
      "metadata": {
        "id": "iBnOutvxUnE3"
      }
    },
    {
      "cell_type": "code",
      "source": [
        "dataset = pd.read_csv('package_tourism.csv')\n",
        "x = dataset.iloc[:, :-1].values\n",
        "y = dataset.iloc[:, -1].values"
      ],
      "metadata": {
        "id": "4ePkc7gIdAst"
      },
      "execution_count": 38,
      "outputs": []
    },
    {
      "cell_type": "code",
      "source": [
        "print(x)"
      ],
      "metadata": {
        "colab": {
          "base_uri": "https://localhost:8080/"
        },
        "id": "MqsV8_LakGKQ",
        "outputId": "31fdc9af-675d-4061-99e7-57481ae853c0"
      },
      "execution_count": 37,
      "outputs": [
        {
          "output_type": "stream",
          "name": "stdout",
          "text": [
            "[[1 'Jakarta' 'Pasar Tanah Abang' 'Taman Ayodya' 'Museum Tekstil' nan]\n",
            " [2 'Jakarta' 'Pasar Tanah Abang' 'Pasar Taman Puring'\n",
            "  'Pasar Petak Sembilan' nan]\n",
            " [3 'Jakarta' 'Perpustakaan Nasional' 'Monas' 'Masjid Istiqlal' nan]\n",
            " [4 'Jakarta' 'Pulau Tidung' 'Pulau Bidadari' 'Pulau Pari'\n",
            "  'Pulau Pramuka']\n",
            " [5 'Jakarta' 'Museum Satria Mandala' 'Museum Wayang'\n",
            "  'Museum Bahari Jakarta'\n",
            "  'Museum Macan (Modern and Contemporary Art in Nusantara)']\n",
            " [6 'Jakarta' 'Waterboom PIK (Pantai Indah Kapuk)'\n",
            "  'Jakarta Aquarium dan Safari' 'SnowBay Waterpark' nan]\n",
            " [7 'Jakarta' 'Alive Museum Ancol' 'Ocean Ecopark' 'SnowBay Waterpark'\n",
            "  nan]\n",
            " [8 'Jakarta' 'Kota Tua' 'Museum Bank Indonesia' 'Monas'\n",
            "  'Perpustakaan Nasional']\n",
            " [9 'Jakarta' 'Galeri Nasional Indonesia' 'Museum Seni Rupa dan Kramik'\n",
            "  'Galeri Indonesia Kaya' nan]\n",
            " [10 'Jakarta' 'Taman Impian Jaya Ancol' 'Kota Tua'\n",
            "  'Museum Bank Indonesia' 'Museum Fatahillah']\n",
            " [11 'Jakarta' 'Kota Tua' 'Jembatan Kota Intan' 'Klenteng Jin De Yuan'\n",
            "  'Wisata Kuliner Pecenongan']\n",
            " [12 'Jakarta' 'Hutan Kota Srengseng' 'Taman Cattleya' 'Freedom Library'\n",
            "  nan]\n",
            " [13 'Jakarta' 'Taman Mini Indonesia Indah (TMII)'\n",
            "  'Museum Satria Mandala' 'Pasar Tanah Abang' nan]\n",
            " [14 'Jakarta' 'Pasar Tanah Abang' 'Pasar Taman Puring' 'Pasar Seni'\n",
            "  'Pasar Petak Sembilan']\n",
            " [15 'Jakarta' 'Mall Thamrin City' 'Grand Indonesia Mall'\n",
            "  'Plaza Indonesia' nan]\n",
            " [16 'Jakarta' 'Museum Joang 45' 'Museum Fatahillah'\n",
            "  'Museum Bank Indonesia' 'Museum Taman Prasasti']\n",
            " [17 'Jakarta' 'Museum Sumpah Pemuda' 'Tugu Proklamasi'\n",
            "  'Museum Basoeki Abdullah' 'Museum Layang-layang']\n",
            " [18 'Jakarta' 'Klenteng Jin De Yuan' 'Masjid Istiqlal' 'Gereja Katedral'\n",
            "  nan]\n",
            " [19 'Jakarta' 'Taman Menteng' 'Taman Suropati' 'Taman Lapangan Banteng'\n",
            "  'Taman Cattleya']\n",
            " [20 'Jakarta' 'Wisata Agro Edukatif Istana Susu Cibugary'\n",
            "  'Bumi Perkemahan Cibubur' 'Taman Situ Lembang'\n",
            "  'Taman Agrowisata Cilangkap']\n",
            " [21 'Yogyakarta' 'Nol Kilometer Jl.Malioboro'\n",
            "  'Alun Alun Selatan Yogyakarta' 'Tugu Pal Putih Jogja'\n",
            "  'Bukit Lintang Sewu']\n",
            " [22 'Yogyakarta' 'Air Terjun Kedung Pedut'\n",
            "  'Puncak Gunung Api Purba - Nglanggeran' 'Watu Mabur Mangunan'\n",
            "  'Geoforest Watu Payung Turunan']\n",
            " [23 'Yogyakarta' 'Alun-alun Utara Keraton Yogyakarta' 'Candi Ijo'\n",
            "  'Monumen Sanapati' nan]\n",
            " [24 'Yogyakarta' 'Pantai Indrayanti' 'Pantai Nglambor'\n",
            "  'Pantai Parangtritis' 'Pantai Sundak']\n",
            " [25 'Yogyakarta' 'Candi Ijo' 'Pasar Beringharjo'\n",
            "  'Sindu Kusuma Edupark (SKE)' nan]\n",
            " [26 'Yogyakarta' 'Hutan Pinus Pengger' 'Bentara Budaya Yogyakarta (BBY)'\n",
            "  'Desa Wisata Pulesari' nan]\n",
            " [27 'Yogyakarta' 'Candi Prambanan' 'Candi Borobudur' 'Kawasan Malioboro'\n",
            "  nan]\n",
            " [28 'Yogyakarta' 'Pantai Patihan' 'Pantai Kukup'\n",
            "  'Hutan Mangrove Kulon Progo' 'Pantai Nguluran']\n",
            " [29 'Yogyakarta' 'Gembira Loka Zoo' 'Kampung Wisata Kadipaten'\n",
            "  'Tebing Breksi' 'Embung Tambakboyo']\n",
            " [30 'Yogyakarta' 'The Lost World Castle' 'Monumen Sanapati'\n",
            "  'Green Village Gedangsari' 'Pantai Depok Jogja']\n",
            " [31 'Yogyakarta' 'Puncak Segoro' 'Taman Pelangi Jogja'\n",
            "  'Galaxy Waterpark Jogja' nan]\n",
            " [32 'Yogyakarta' 'Bukit Wisata Pulepayung' 'Hutan Pinus Asri'\n",
            "  'Kebun Teh Nglinggo' 'Goa Pindul']\n",
            " [33 'Yogyakarta' 'Pantai Glagah' 'Pantai Drini' 'Pantai Wediombo'\n",
            "  'Pantai Jogan']\n",
            " [34 'Yogyakarta' 'Desa Wisata Sungai Code Jogja Kota'\n",
            "  'Kawasan Malioboro' 'Kauman Pakualaman Yogyakarta' nan]\n",
            " [35 'Yogyakarta' 'Kampung Wisata Taman Sari'\n",
            "  'Monumen Serangan Umum 1 Maret' 'Puncak Kebun Buah Mangunan'\n",
            "  'Seribu Batu Songgo Langit']\n",
            " [36 'Yogyakarta' 'Jurang Tembelan Kanigoro' 'Lava Bantal' 'Watu Goyang'\n",
            "  'Watu Lumbung']\n",
            " [37 'Yogyakarta' 'De Mata Museum Jogja' 'Kampung Wisata Kadipaten'\n",
            "  'Tebing Breksi' 'Bentara Budaya Yogyakarta (BBY)']\n",
            " [38 'Yogyakarta' 'Watu Lumbung' 'Bunker Kaliadem Merapi'\n",
            "  'Goa Rancang Kencono' 'Pintoe Langit Dahromo']\n",
            " [39 'Yogyakarta' 'Sindu Kusuma Edupark (SKE)' 'Taman Pelangi Yogyakarta'\n",
            "  'The Lost World Castle' 'The World Landmarks - Merapi Park Yogyakarta']\n",
            " [40 'Yogyakarta' 'Pasar Beringharjo' 'Pasar Kebon Empring Bintaran'\n",
            "  'Kawasan Wisata Sosrowijayan' nan]\n",
            " [41 'Bandung' 'Dago Dreampark' 'Orchid Forest Cikole' 'Jendela Alam'\n",
            "  'Sudut Pandang Bandung']\n",
            " [42 'Bandung' 'Gunung Tangkuban Perahu' 'Gunung Papandayan'\n",
            "  'Gunung Manglayang' 'Curug Dago']\n",
            " [43 'Bandung' 'Museum Geologi Bandung' 'Museum Sri Baduga'\n",
            "  'Museum Pendidikan Nasional' 'Taman Film']\n",
            " [44 'Bandung' 'Museum Konferensi Asia Afrika'\n",
            "  'Monumen Perjuangan Rakyat Jawa Barat'\n",
            "  'Museum Mandala Wangsit Siliwangi' 'Taman Sejarah Bandung']\n",
            " [45 'Bandung' 'Kyotoku Floating Market' 'Mountain View Golf Club'\n",
            "  'Trans Studio Bandung' nan]\n",
            " [46 'Bandung' 'Glamping Lakeside Rancabali' 'Taman Miniatur Kereta Api'\n",
            "  'Kota Mini' nan]\n",
            " [47 'Bandung' 'Gereja Katedral Santo Petrus Bandung' 'Masjid Pusdai'\n",
            "  'Masjid Al-Imtizaj' nan]\n",
            " [48 'Bandung' 'Caringin Tilu' 'Curug Anom' 'Bukit Jamur'\n",
            "  'Kebun Tanaman Obat Sari Alam']\n",
            " [49 'Bandung' 'NuArt Sculpture Park'\n",
            "  'Pesona Nirwana Waterpark & Cottages' ' Panama Park 825'\n",
            "  'Water Park Bandung Indah']\n",
            " [50 'Bandung' 'Taman Hutan Raya Ir. H. Djuanda' 'Tebing Karaton'\n",
            "  'Kampung Korea Bandung' 'Kiara Artha Park']\n",
            " [51 'Bandung' 'Situ Patenggang' 'Rainbow Garden' 'Kota Mini' nan]\n",
            " [52 'Bandung' 'Taman Begonia' 'Curug Malela'\n",
            "  'Taman Kupu-Kupu Cihanjuang' 'Gua Pawon']\n",
            " [53 'Bandung' 'Alun-Alun Kota Bandung' 'Taman Balai Kota Bandung'\n",
            "  'Teras Cikapundung BBWS' 'Taman Vanda']\n",
            " [54 'Bandung' 'Rainbow Garden' 'Kota Mini' 'Rainbow Garden' 'Kota Mini']\n",
            " [55 'Bandung' 'Masjid Raya Bandung' 'Taman Lansia'\n",
            "  'Monumen Bandung Lautan Api' 'Museum Pos Indonesia']\n",
            " [56 'Bandung' 'Kawah Putih' 'Panghegar Waterboom Bandung'\n",
            "  'Saung Angklung Mang Udjo' nan]\n",
            " [57 'Bandung' 'Museum Gedung Sate' 'Roemah Seni Sarasvati'\n",
            "  'Museum Pendidikan Nasional' 'Taman Film']\n",
            " [58 'Bandung' 'Kebun Binatang Bandung' 'Lembang Park & Zoo'\n",
            "  'Curug Cipanas' 'Tafso Barn']\n",
            " [59 'Bandung' 'Kawasan Punclut' 'Lawangwangi Creative Space'\n",
            "  'Curug Tilu Leuwi Opat' 'Taman Budaya Jawa Barat']\n",
            " [60 'Bandung' 'Curug Dago' 'Curug Batu Templek' 'Curug Aseupan'\n",
            "  'Curug Anom']\n",
            " [61 'Semarang' 'Candi Gedong Songo' 'Lawang Sewu' 'Sam Poo Kong Temple'\n",
            "  nan]\n",
            " [62 'Semarang' 'Grand Maerakaca' 'Kampung Pelangi'\n",
            "  'Desa Wisata Lembah Kalipancur' 'Taman Kasmaran']\n",
            " [63 'Semarang' 'Pantai Baruna' 'Pantai Marina' ' Pantai Cipta' nan]\n",
            " [64 'Semarang' 'Indonesia Kaya Park' 'Taman Pandanaran'\n",
            "  'Taman Srigunting' nan]\n",
            " [65 'Semarang' 'Jembatan Biru Ambarawa' 'Masjid Agung Ungaran'\n",
            "  'Tugu Muda Semarang' 'Taman Tabanas']\n",
            " [66 'Semarang' 'Air Terjun Semirang' 'Obyek Wisata Goa Kreo'\n",
            "  'Watu Gunung Ungaran' 'Brown Canyon']\n",
            " [67 'Semarang' 'Saloka Theme Park' 'Water Blaster Bukit Candi Golf'\n",
            "  'Kampoeng Kopi Banaran' nan]\n",
            " [68 'Semarang' 'Water Blaster Bukit Candi Golf'\n",
            "  'Kampung Batik Gedong Semarang' 'Semarang Gallery'\n",
            "  'Flower Farm Setiya Aji']\n",
            " [69 'Semarang' 'Waduk Jatibarang' 'Wisata Lereng Kelir' 'Kampoeng Rawa'\n",
            "  'Wisata Eling Bening']\n",
            " [70 'Semarang' 'Kampoeng Djadhoel Semarang' 'Pura Giri Natha'\n",
            "  'Old City 3D Trick Art Museum' 'Semarang Contemporary Art Gallery']\n",
            " [71 'Semarang' 'Wisata Lereng Kelir' 'Monumen Palagan Ambarawa'\n",
            "  'Benteng Pendem' 'Museum Kereta Ambarawa']\n",
            " [72 'Semarang' 'GPIB Immanuel Semarang (Gereja Blenduk)'\n",
            "  'Masjid Kapal Semarang' 'Masjid Agung Ungaran' nan]\n",
            " [73 'Semarang' 'Monumen Palagan Ambarawa' 'Benteng Pendem'\n",
            "  'Museum Kereta Ambarawa' 'Kota Lama Semarang']\n",
            " [74 'Semarang' 'Kampung Pelangi' 'Hutan Wisata Tinjomoyo Semarang'\n",
            "  'Taman Kasmaran' nan]\n",
            " [75 'Semarang' 'Wisata Mangrove Tapak' 'Umbul Sidomukti'\n",
            "  'Wisata Alam Wana Wisata Penggaron' nan]\n",
            " [76 'Semarang' 'Candi Gedong Songo' 'Grand Maerakaca' 'Lawang Sewu' nan]\n",
            " [77 'Semarang' 'Tirto Argo Siwarak' 'Wisata Eling Bening'\n",
            "  'Semarang Chinatown' 'La Kana Chapel']\n",
            " [78 'Semarang' 'Pantai Baruna' 'Pantai Marina' 'Wisata Mangrove Tapak'\n",
            "  'Pantai Cipta']\n",
            " [79 'Semarang' 'Waduk Jatibarang' 'Kampoeng Rawa'\n",
            "  'Gua Maria Kerep Ambarawa' 'Kota Lama Semarang']\n",
            " [80 'Semarang' 'Desa Wisata Lembah Kalipancur' 'Masjid Kapal Semarang'\n",
            "  'Kota Lama Semarang' 'Brown Canyon']\n",
            " [81 'Surabaya' 'Taman Prestasi' 'Taman Keputran' 'Taman Bungkul'\n",
            "  'Taman Flora Bratang Surabaya']\n",
            " [82 'Surabaya' 'Museum Sepuluh Nopember Kota Surabaya'\n",
            "  'Museum Kesehatan Dr. Adhyatma' 'Patung Buddha Empat Rupa'\n",
            "  'Museum TNI AL Loka Jala Crana']\n",
            " [83 'Surabaya' 'Masjid Muhammad Cheng Hoo' 'Masjid Nasional Al-Akbar'\n",
            "  'Klenteng Sanggar Agung' 'Patung Buddha Empat Rupa']\n",
            " [84 'Surabaya' 'Ciputra Waterpark' 'Kenjeran Park'\n",
            "  'Kebun Binatang Surabaya' 'Atlantis Land Surabaya']\n",
            " [85 'Surabaya' 'Air Mancur Menari' 'Monumen Kapal Selam'\n",
            "  'Pantai Ria Kenjeran' nan]\n",
            " [86 'Surabaya' 'Museum De Javasche Bank'\n",
            "  'Surabaya Museum (Gedung Siola)' 'Balai Kota Surabaya'\n",
            "  'Museum Mpu Tantular']\n",
            " [87 'Surabaya' 'Surabaya North Quay' 'Waterpark Kenjeran Surabaya'\n",
            "  '| Food Junction Grand Pakuwon' nan]\n",
            " [88 'Surabaya' 'Taman Buah Surabaya' 'Taman Pelangi' 'Taman Barunawati'\n",
            "  'Taman Mundu']\n",
            " [89 'Surabaya' 'Rumah Batik' 'Jembatan Merah' 'Monumen Tugu Pahlawan'\n",
            "  'Monumen Jalesveva Jayamahe']\n",
            " [90 'Surabaya' 'Monumen Tugu Pahlawan' 'Monumen Jalesveva Jayamahe'\n",
            "  'Patung Sura dan Buaya' 'Monumen Bambu Runcing Surabaya']\n",
            " [91 'Surabaya' 'Ekowisata Mangrove Wonorejo' 'Taman Harmoni Keputih'\n",
            "  'Taman Air Mancur Menari Kenjeran' nan]\n",
            " [92 'Surabaya' 'Taman Kunang-Kunang' 'Taman Ekspresi Dan Perpustakaan'\n",
            "  'Taman Air Mancur Menari Kenjeran' nan]\n",
            " [93 'Surabaya' 'Museum TNI AL Loka Jala Crana' 'Klenteng Sanggar Agung'\n",
            "  'Museum Sepuluh Nopember Kota Surabaya' 'Museum Kesehatan Dr. Adhyatma']\n",
            " [94 'Surabaya' 'Taman Buah Surabaya' 'Taman Pelangi'\n",
            "  'Hutan Bambu Keputih' 'Taman Barunawati']\n",
            " [95 'Surabaya' 'Museum TNI AL Loka Jala Crana' 'Taman Hiburan Rakyat'\n",
            "  'Museum De Javasche Bank' 'Museum Mpu Tantular']\n",
            " [96 'Surabaya' 'Ekowisata Mangrove Wonorejo' 'Taman Harmoni Keputih'\n",
            "  'Taman Kunang-Kunang' 'Taman Ekspresi Dan Perpustakaan']\n",
            " [97 'Surabaya' 'Ciputra Waterpark' 'Kenjeran Park'\n",
            "  'Kebun Binatang Surabaya' 'Food Junction Grand Pakuwon']\n",
            " [98 'Surabaya' 'Museum Kesehatan Dr. Adhyatma'\n",
            "  'Patung Buddha Empat Rupa' 'Taman Hiburan Rakyat' 'Taman Bungkul']\n",
            " [99 'Surabaya' 'Taman Ekspresi Dan Perpustakaan'\n",
            "  'Museum De Javasche Bank' 'Surabaya Museum (Gedung Siola)'\n",
            "  'Museum Mpu Tantular']\n",
            " [100 'Surabaya' 'Taman Buah Surabaya' 'Hutan Bambu Keputih'\n",
            "  'Taman Barunawati' 'Kebun Bibit Wonorejo']]\n"
          ]
        }
      ]
    },
    {
      "cell_type": "code",
      "source": [
        "print(y)"
      ],
      "metadata": {
        "colab": {
          "base_uri": "https://localhost:8080/"
        },
        "id": "6BYBjH4JkdDj",
        "outputId": "da1ee669-a562-43c5-a405-87bb3406b223"
      },
      "execution_count": 39,
      "outputs": [
        {
          "output_type": "stream",
          "name": "stdout",
          "text": [
            "[nan nan nan 'Pulau Pelangi' nan nan nan 'Masjid Istiqlal' nan\n",
            " 'Museum Wayang' nan nan nan nan nan 'Museum Nasional' 'Museum Perangko'\n",
            " nan 'Taman Spathodea' 'Taman Lapangan Banteng' 'Bendung Lepen' nan nan\n",
            " 'Pantai Krakal' nan nan nan 'Pantai Samas' nan nan nan 'Wisata Kalibiru'\n",
            " 'Pantai Ngrenehan' nan 'Bukit Paralayang, Watugupit' nan nan\n",
            " 'Wisata Kaliurang' nan nan nan 'Curug Batu Templek' 'Museum Nike Ardilla'\n",
            " nan nan nan nan nan 'Chingu Cafe Little Seoul' '| Peta Park' nan\n",
            " 'Stone Garden Geopark' 'Ade Irma Suryani Nasution Traffic Park' nan nan\n",
            " nan 'Museum Nike Ardilla' nan 'Curug Bugbrug' 'Curug Luhur Waterfall' nan\n",
            " nan nan nan 'Kampung Tematik Jawi'\n",
            " 'Durian Gardens and Tourism Education Watu Simbar' nan nan\n",
            " 'Gua Maria Kerep Ambarawa' nan 'Hutan Pinus Kayon' nan\n",
            " 'Semarang Chinatown' nan nan nan nan nan nan nan nan 'Keraton Surabaya'\n",
            " 'Gereja Perawan Maria Tak Berdosa Surabaya' nan nan nan nan nan\n",
            " 'Patung Sura dan Buaya' 'House of Sampoerna' nan nan\n",
            " 'Taman Hiburan Rakyat' 'Kebun Bibit Wonorejo' nan\n",
            " 'Museum De Javasche Bank' '| Atlantis Land Surabaya'\n",
            " 'Taman Flora Bratang Surabaya' 'Taman Air Mancur Menari Kenjeran'\n",
            " 'Taman Mundu']\n"
          ]
        }
      ]
    },
    {
      "cell_type": "code",
      "source": [
        "from sklearn.impute import SimpleImputer\n",
        "imputer = SimpleImputer(missing_values=np.nan, strategy='mean')\n",
        "imputer.fit(x[:, 1:3])\n",
        "x[:, 1:3] = imputer.transform(x[:, 1:3])"
      ],
      "metadata": {
        "id": "079Ypkmqkqvb"
      },
      "execution_count": null,
      "outputs": []
    },
    {
      "cell_type": "code",
      "source": [
        "from sklearn.compose import ColumnTransformer\n",
        "from sklearn.preprocessing import OneHotEncoder\n",
        "ct = ColumnTransformer(transformers=[('encoder', OneEncoder(), [0])], remainder='passthrought')\n",
        "x = np.array(ct.fit_transform(x))"
      ],
      "metadata": {
        "id": "46TvR81wmOHk"
      },
      "execution_count": null,
      "outputs": []
    },
    {
      "cell_type": "code",
      "source": [
        "from sklearn.preprocessing import LabelEncoder\n",
        "le = LabelEncoder()\n",
        "y = le.fit_transform?(y)"
      ],
      "metadata": {
        "id": "7w_xbmhTm-c-"
      },
      "execution_count": null,
      "outputs": []
    },
    {
      "cell_type": "code",
      "source": [
        "from sklearn.model_selection import train_test_split\n",
        "x_train, x_test, y_train, y_test = tran_test_split(x,y, test_size=0.2, random_stat=1)"
      ],
      "metadata": {
        "id": "kmzyLhEqnN6v"
      },
      "execution_count": null,
      "outputs": []
    },
    {
      "cell_type": "code",
      "source": [
        "from sklearn.preprocessing import StandardScaler\n",
        "sc = StandardScaler()\n",
        "x_train[:, 3:] = sc.fit_transform(x_train[:, 3:])\n",
        "x_test[:, 3:] = sc.transform(x_test[:, 3:])"
      ],
      "metadata": {
        "id": "BuinsH5SnjVg"
      },
      "execution_count": null,
      "outputs": []
    }
  ]
}