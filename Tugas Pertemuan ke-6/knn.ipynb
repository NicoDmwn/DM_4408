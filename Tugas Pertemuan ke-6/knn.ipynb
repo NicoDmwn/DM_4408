{
  "nbformat": 4,
  "nbformat_minor": 0,
  "metadata": {
    "colab": {
      "provenance": []
    },
    "kernelspec": {
      "name": "python3",
      "display_name": "Python 3"
    },
    "language_info": {
      "name": "python"
    }
  },
  "cells": [
    {
      "cell_type": "code",
      "execution_count": 1,
      "metadata": {
        "id": "WgeBdOn-maTE"
      },
      "outputs": [],
      "source": [
        "import numpy as np\n",
        "import matplotlib.pyplot as plt\n",
        "import pandas as pd"
      ]
    },
    {
      "cell_type": "code",
      "source": [
        "dataset = pd.read_csv('Bali Popular Destination for Tourist 2022 - Sheet1.csv')"
      ],
      "metadata": {
        "id": "I9JO3haltQE3"
      },
      "execution_count": 2,
      "outputs": []
    },
    {
      "cell_type": "code",
      "source": [
        "dataset.head()"
      ],
      "metadata": {
        "colab": {
          "base_uri": "https://localhost:8080/",
          "height": 669
        },
        "id": "HaCVlNyPtlnt",
        "outputId": "9179f009-e133-4653-ce0c-e06f62b507a4"
      },
      "execution_count": 3,
      "outputs": [
        {
          "output_type": "execute_result",
          "data": {
            "text/plain": [
              "                Place                                           Location  \\\n",
              "0           Tanah Lot  Beraban, Kec. Kediri, Kabupaten Tabanan, Bali ...   \n",
              "1         Mount Batur                    Bangli Regency, Bali, Indonesia   \n",
              "2      Uluwatu Temple                       Uluwatu (South Kuta, Badung)   \n",
              "3  Ubud Monkey Forest  Jl. Monkey Forest, Ubud, Kecamatan Ubud, Kabup...   \n",
              "4           Goa Gajah                              Gianyar Regency, Bali   \n",
              "\n",
              "               Coordinate  Google Maps Rating  Google Reviews (Count)  \\\n",
              "0  8.6212° S, 115.0868° E                 4.6                   75899   \n",
              "1   8°14′20″S 115°22′39″E                 4.5                    2580   \n",
              "2  8.8291° S, 115.0849° E                 4.6                   28800   \n",
              "3  8.5194° S, 115.2606° E                 4.5                   36099   \n",
              "4  8.5069° S, 115.2625° E                 4.2                    6683   \n",
              "\n",
              "                                              Source  \\\n",
              "0  https://www.google.com/maps/place/Tanah+Lot/@-...   \n",
              "1  https://www.google.com/maps/place/Mt+Batur/@-8...   \n",
              "2  https://www.google.com/maps/place/Uluwatu+Temp...   \n",
              "3  https://www.google.com/maps/place/Sacred+Monke...   \n",
              "4  https://www.google.com/maps/place/Goa+Gajah/@-...   \n",
              "\n",
              "                                         Description  \\\n",
              "0  is a rock formation off the Indonesian island ...   \n",
              "1  Mount Batur (Gunung Batur) is an active volcan...   \n",
              "2  The temple is regarded as one of the sad kahya...   \n",
              "3  Mandala Suci Wenara Wana, or well known as Ubu...   \n",
              "4  Goa Gajah, or Elephant Cave, is located on the...   \n",
              "\n",
              "                 Tourism/Visitor Fee (approx in USD)  \n",
              "0  Yes, entrance tickets cost 20,000 Rupiah for I...  \n",
              "1  Yes, The Mount Batur trekking price is around ...  \n",
              "2  Yes, The Uluwatu Temple Bali entrance fee is I...  \n",
              "3  Yes, Visit to the Ubud Monkey Forest are subje...  \n",
              "4  Yes, Adult 50.000 IDR ($3.4 USD), Child 25.000...  "
            ],
            "text/html": [
              "\n",
              "  <div id=\"df-5ea45dce-62f0-4515-8849-37c8b977b3e2\">\n",
              "    <div class=\"colab-df-container\">\n",
              "      <div>\n",
              "<style scoped>\n",
              "    .dataframe tbody tr th:only-of-type {\n",
              "        vertical-align: middle;\n",
              "    }\n",
              "\n",
              "    .dataframe tbody tr th {\n",
              "        vertical-align: top;\n",
              "    }\n",
              "\n",
              "    .dataframe thead th {\n",
              "        text-align: right;\n",
              "    }\n",
              "</style>\n",
              "<table border=\"1\" class=\"dataframe\">\n",
              "  <thead>\n",
              "    <tr style=\"text-align: right;\">\n",
              "      <th></th>\n",
              "      <th>Place</th>\n",
              "      <th>Location</th>\n",
              "      <th>Coordinate</th>\n",
              "      <th>Google Maps Rating</th>\n",
              "      <th>Google Reviews (Count)</th>\n",
              "      <th>Source</th>\n",
              "      <th>Description</th>\n",
              "      <th>Tourism/Visitor Fee (approx in USD)</th>\n",
              "    </tr>\n",
              "  </thead>\n",
              "  <tbody>\n",
              "    <tr>\n",
              "      <th>0</th>\n",
              "      <td>Tanah Lot</td>\n",
              "      <td>Beraban, Kec. Kediri, Kabupaten Tabanan, Bali ...</td>\n",
              "      <td>8.6212° S, 115.0868° E</td>\n",
              "      <td>4.6</td>\n",
              "      <td>75899</td>\n",
              "      <td>https://www.google.com/maps/place/Tanah+Lot/@-...</td>\n",
              "      <td>is a rock formation off the Indonesian island ...</td>\n",
              "      <td>Yes, entrance tickets cost 20,000 Rupiah for I...</td>\n",
              "    </tr>\n",
              "    <tr>\n",
              "      <th>1</th>\n",
              "      <td>Mount Batur</td>\n",
              "      <td>Bangli Regency, Bali, Indonesia</td>\n",
              "      <td>8°14′20″S 115°22′39″E</td>\n",
              "      <td>4.5</td>\n",
              "      <td>2580</td>\n",
              "      <td>https://www.google.com/maps/place/Mt+Batur/@-8...</td>\n",
              "      <td>Mount Batur (Gunung Batur) is an active volcan...</td>\n",
              "      <td>Yes, The Mount Batur trekking price is around ...</td>\n",
              "    </tr>\n",
              "    <tr>\n",
              "      <th>2</th>\n",
              "      <td>Uluwatu Temple</td>\n",
              "      <td>Uluwatu (South Kuta, Badung)</td>\n",
              "      <td>8.8291° S, 115.0849° E</td>\n",
              "      <td>4.6</td>\n",
              "      <td>28800</td>\n",
              "      <td>https://www.google.com/maps/place/Uluwatu+Temp...</td>\n",
              "      <td>The temple is regarded as one of the sad kahya...</td>\n",
              "      <td>Yes, The Uluwatu Temple Bali entrance fee is I...</td>\n",
              "    </tr>\n",
              "    <tr>\n",
              "      <th>3</th>\n",
              "      <td>Ubud Monkey Forest</td>\n",
              "      <td>Jl. Monkey Forest, Ubud, Kecamatan Ubud, Kabup...</td>\n",
              "      <td>8.5194° S, 115.2606° E</td>\n",
              "      <td>4.5</td>\n",
              "      <td>36099</td>\n",
              "      <td>https://www.google.com/maps/place/Sacred+Monke...</td>\n",
              "      <td>Mandala Suci Wenara Wana, or well known as Ubu...</td>\n",
              "      <td>Yes, Visit to the Ubud Monkey Forest are subje...</td>\n",
              "    </tr>\n",
              "    <tr>\n",
              "      <th>4</th>\n",
              "      <td>Goa Gajah</td>\n",
              "      <td>Gianyar Regency, Bali</td>\n",
              "      <td>8.5069° S, 115.2625° E</td>\n",
              "      <td>4.2</td>\n",
              "      <td>6683</td>\n",
              "      <td>https://www.google.com/maps/place/Goa+Gajah/@-...</td>\n",
              "      <td>Goa Gajah, or Elephant Cave, is located on the...</td>\n",
              "      <td>Yes, Adult 50.000 IDR ($3.4 USD), Child 25.000...</td>\n",
              "    </tr>\n",
              "  </tbody>\n",
              "</table>\n",
              "</div>\n",
              "      <button class=\"colab-df-convert\" onclick=\"convertToInteractive('df-5ea45dce-62f0-4515-8849-37c8b977b3e2')\"\n",
              "              title=\"Convert this dataframe to an interactive table.\"\n",
              "              style=\"display:none;\">\n",
              "        \n",
              "  <svg xmlns=\"http://www.w3.org/2000/svg\" height=\"24px\"viewBox=\"0 0 24 24\"\n",
              "       width=\"24px\">\n",
              "    <path d=\"M0 0h24v24H0V0z\" fill=\"none\"/>\n",
              "    <path d=\"M18.56 5.44l.94 2.06.94-2.06 2.06-.94-2.06-.94-.94-2.06-.94 2.06-2.06.94zm-11 1L8.5 8.5l.94-2.06 2.06-.94-2.06-.94L8.5 2.5l-.94 2.06-2.06.94zm10 10l.94 2.06.94-2.06 2.06-.94-2.06-.94-.94-2.06-.94 2.06-2.06.94z\"/><path d=\"M17.41 7.96l-1.37-1.37c-.4-.4-.92-.59-1.43-.59-.52 0-1.04.2-1.43.59L10.3 9.45l-7.72 7.72c-.78.78-.78 2.05 0 2.83L4 21.41c.39.39.9.59 1.41.59.51 0 1.02-.2 1.41-.59l7.78-7.78 2.81-2.81c.8-.78.8-2.07 0-2.86zM5.41 20L4 18.59l7.72-7.72 1.47 1.35L5.41 20z\"/>\n",
              "  </svg>\n",
              "      </button>\n",
              "      \n",
              "  <style>\n",
              "    .colab-df-container {\n",
              "      display:flex;\n",
              "      flex-wrap:wrap;\n",
              "      gap: 12px;\n",
              "    }\n",
              "\n",
              "    .colab-df-convert {\n",
              "      background-color: #E8F0FE;\n",
              "      border: none;\n",
              "      border-radius: 50%;\n",
              "      cursor: pointer;\n",
              "      display: none;\n",
              "      fill: #1967D2;\n",
              "      height: 32px;\n",
              "      padding: 0 0 0 0;\n",
              "      width: 32px;\n",
              "    }\n",
              "\n",
              "    .colab-df-convert:hover {\n",
              "      background-color: #E2EBFA;\n",
              "      box-shadow: 0px 1px 2px rgba(60, 64, 67, 0.3), 0px 1px 3px 1px rgba(60, 64, 67, 0.15);\n",
              "      fill: #174EA6;\n",
              "    }\n",
              "\n",
              "    [theme=dark] .colab-df-convert {\n",
              "      background-color: #3B4455;\n",
              "      fill: #D2E3FC;\n",
              "    }\n",
              "\n",
              "    [theme=dark] .colab-df-convert:hover {\n",
              "      background-color: #434B5C;\n",
              "      box-shadow: 0px 1px 3px 1px rgba(0, 0, 0, 0.15);\n",
              "      filter: drop-shadow(0px 1px 2px rgba(0, 0, 0, 0.3));\n",
              "      fill: #FFFFFF;\n",
              "    }\n",
              "  </style>\n",
              "\n",
              "      <script>\n",
              "        const buttonEl =\n",
              "          document.querySelector('#df-5ea45dce-62f0-4515-8849-37c8b977b3e2 button.colab-df-convert');\n",
              "        buttonEl.style.display =\n",
              "          google.colab.kernel.accessAllowed ? 'block' : 'none';\n",
              "\n",
              "        async function convertToInteractive(key) {\n",
              "          const element = document.querySelector('#df-5ea45dce-62f0-4515-8849-37c8b977b3e2');\n",
              "          const dataTable =\n",
              "            await google.colab.kernel.invokeFunction('convertToInteractive',\n",
              "                                                     [key], {});\n",
              "          if (!dataTable) return;\n",
              "\n",
              "          const docLinkHtml = 'Like what you see? Visit the ' +\n",
              "            '<a target=\"_blank\" href=https://colab.research.google.com/notebooks/data_table.ipynb>data table notebook</a>'\n",
              "            + ' to learn more about interactive tables.';\n",
              "          element.innerHTML = '';\n",
              "          dataTable['output_type'] = 'display_data';\n",
              "          await google.colab.output.renderOutput(dataTable, element);\n",
              "          const docLink = document.createElement('div');\n",
              "          docLink.innerHTML = docLinkHtml;\n",
              "          element.appendChild(docLink);\n",
              "        }\n",
              "      </script>\n",
              "    </div>\n",
              "  </div>\n",
              "  "
            ]
          },
          "metadata": {},
          "execution_count": 3
        }
      ]
    },
    {
      "cell_type": "code",
      "source": [
        "x = dataset.iloc[:, [2,3]].values\n",
        "y = dataset.iloc[:, -1].values"
      ],
      "metadata": {
        "id": "BDISodcitvVn"
      },
      "execution_count": 4,
      "outputs": []
    },
    {
      "cell_type": "code",
      "source": [
        "print(x)"
      ],
      "metadata": {
        "colab": {
          "base_uri": "https://localhost:8080/"
        },
        "id": "Z8RgDk6tuJgd",
        "outputId": "248c678a-7947-472b-c99d-177b74b44784"
      },
      "execution_count": 5,
      "outputs": [
        {
          "output_type": "stream",
          "name": "stdout",
          "text": [
            "[['8.6212° S, 115.0868° E' 4.6]\n",
            " ['8°14′20″S 115°22′39″E' 4.5]\n",
            " ['8.8291° S, 115.0849° E' 4.6]\n",
            " ['8.5194° S, 115.2606° E' 4.5]\n",
            " ['8.5069° S, 115.2625° E' 4.2]\n",
            " ['8°22\\'07.1\"S 115°07\\'49.7\"E' 4.7]\n",
            " ['8.4028° S, 115.2880° E' 4.4]\n",
            " ['8° 16′ 31″ S, 115° 9′ 59″ E' 4.7]\n",
            " ['8.6913° S, 115.1682° E' 4.5]\n",
            " ['8.7941° S, 115.2302° E' 4.6]\n",
            " ['8.3739° S, 115.4522° E' 4.5]\n",
            " ['8.7185° S, 115.1686° E' 4.5]\n",
            " ['8° 23′ 29.24″ S, 115° 37′ 52.7″ E' 4.3]\n",
            " ['8° 29′ 4.08″ S, 115° 26′ 41.02″ E' 4.3]\n",
            " ['8° 24′ 52.8″ S, 115° 18′ 57.6″ E' 4.6]\n",
            " ['8°8′S 114°29′E' 4.5]\n",
            " ['8.8104° S, 115.1676° E' 4.5]\n",
            " ['8.5913° S, 115.2659° E' 4.4]\n",
            " ['8°36′0″S 115°15′4″E' 4.6]\n",
            " ['8.4123° S, 115.5873° E' 4.6]\n",
            " ['8.5754° S, 115.2888° E' 4.3]\n",
            " ['8°29\\'36.9\"S 115°14\\'21.2\"E' 4.5]\n",
            " ['8.7286° S, 115.1694° E' 4.7]\n",
            " ['8.5036° S, 115.2547° E' 4.4]\n",
            " ['8° 35\\' 27.024\" S, 115° 20\\' 31.344\" E' 4.4]\n",
            " ['8.6717° S, 115.2339° E' 4.6]\n",
            " ['8.5965° S, 115.2826° E' 4.3]\n",
            " ['8.4631° S, 115.6307° E' 4.6]\n",
            " ['8.3727° S, 115.1933° E' 4.6]\n",
            " [' 8°25′19″S, 115°21′32″E' 4.8]\n",
            " ['8.2105° S, 114.9671° E' 4.3]\n",
            " ['8.4227° S, 115.2788° E' 4.5]\n",
            " ['8.5516° S, 115.4688° E' 4.7]\n",
            " ['8.6595° S, 115.1301° E' 4.4]]\n"
          ]
        }
      ]
    },
    {
      "cell_type": "code",
      "source": [
        "print(y)"
      ],
      "metadata": {
        "colab": {
          "base_uri": "https://localhost:8080/"
        },
        "id": "xJxNJh1ruSoP",
        "outputId": "f1b5cd8e-6603-4455-a94a-c4b3e3c6d585"
      },
      "execution_count": 6,
      "outputs": [
        {
          "output_type": "stream",
          "name": "stdout",
          "text": [
            "['Yes, entrance tickets cost 20,000 Rupiah for Indonesian nationals (Rp 15,000 for children), but foreigners have to pay three times the price, or Rp 60,000 (Rp 30,000 for children).'\n",
            " 'Yes, The Mount Batur trekking price is around IDR 100.000 ($6.38 USD) per person. It may vary from one season to another. The Mount Batur trek cost will be around IDR 800.000 ($51 USD) for 3 people inclusive of registration, private transfer, and a guide till 1PM.'\n",
            " 'Yes, The Uluwatu Temple Bali entrance fee is IDR 30,000 ($2 USD) per person for adults and IDR 15,000 ($1 USD) for children'\n",
            " 'Yes, Visit to the Ubud Monkey Forest are subject to an entrance fee of 50,000 IDR ($3 USD) per person for adult, and 40,000 IDR ($2.6 USD) per person for kid. The ticket can be bought at the ticket counter which located just before the entrance gate of the forest.'\n",
            " 'Yes, Adult 50.000 IDR ($3.4 USD), Child 25.000 IDR($ 1.6 USD), Parking 2500 - 10000 IDR ($ 0.15 USD - 0.64 USD)'\n",
            " 'Yes, The entrance fee for Jatiluwih Rice Terrace is 40,000 IDR per person (about $3 USD) and an extra 5,000 IDR (35c USD) for the car park.'\n",
            " 'Yes, 15.000 IDR ($1) per person, and 5000 ($ 0.33 USD) IDR for parking.'\n",
            " 'Yes, Adult 50.000 IDR ($3.4 USD), Child 25.000 IDR($ 1.6 USD), Parking 2500 - 10000 IDR ($ 0.15 USD - 0.64 USD)'\n",
            " 'Yes, depending on location and places visited.'\n",
            " 'Yes, depending on location and places visited.'\n",
            " 'Yes, visit to the Besakih Temple (Pura Besakih) are subject to an entrance fee of IDR 60,000 IDR ($ 4 USD) per person for adult, and IDR 30,000 ($ 2 USD) IDR per person for kid.'\n",
            " 'Kuta Beach is accessible 24 hours, 7 days a week. No entrance fee is required. Beach chairs with umbrellas cost Rp50. 000 ($ 3.4 USD)'\n",
            " 'If previously visitors could explore the temple and give donations. Now for international visitors, the entrance fee is Rp55.000. The admission ticket doesn’t include a sarong, prepare Rp10.000 for the rent or bring one. Besides the entrance ticket, now to get to the temple visitors will have to park their private vehicles in the parking area. Then continue with the shuttle bus which cost another Rp50.000 for a return trip.'\n",
            " 'Yes, depending on location and places visited.'\n",
            " 'Yes, visit to the Tirta Empul Temple are subject to an entrance fee of 50,000 IDR ($ 3.4 USD) per person for adult, and 25,000 IDR ($1.7 USD) per person for kid.'\n",
            " 'Yes, West Bali National Park Entrance Fee: Rp200. 000 - Rp300. 000 ($ 15 USD - 21 USD) Opening Hours: 08:00 - 18:00 Telp. Number: - Address: Desa Pemuteran , Pemuteran, Buleleng , Jembrana, Bali , Indonesia , 81155'\n",
            " 'Yes, Garuda Wisnu Kencana Cultural Park Entrance Fee: Rp100.000 - Rp125.000 ($7 - 8.3 USD) Opening Hours: 08:00 - 22:00 WITA '\n",
            " 'Yes, Starting From Rp 90.000 ($ 6 USD), Openin Hours: 09:00 - 17:00.'\n",
            " 'Yes, The basic Bali Bird Park ticket costs IDR 385.000 ($ 24.54 USD) per person for adults and IDR 192.500 ($12.27 USD) for children between 2 to 12 years old. Apart from this, the reptile park Bali entrance fee is IDR 100.000 ($ 6.37 USD) for adults and IDR 50.000 (INR 237) for children between 3 to 10 years old.'\n",
            " 'Yes, Tirtagangga palace entrance fee is Rp50.000 ($ 3.19 USD)  for international tourists. Visitors could swim in the spring water pool with an extra Rp20.000 ($ 1.27 USD).'\n",
            " 'Yes, visit to the Tegenungan Waterfall are subject to an entrance fee of 15,000 IDR ($ 0.96 USD) per person for adult and 10,000 IDR ($ 0.64 USD) per person for child. Tickets can be purchased at the ticket counter in the parking area in front of the waterfall entrance.'\n",
            " 'Yes, 10 USD to 45 USD'\n",
            " 'Yes, However, single days pass costs around IDR 355,000 ($ 22.63 USD) for children who are 2 to 11 years old, IDR 495,000 ($ 31.55 USD) for adults, and IDR 1,565,000 ($ 99.75 USD) for family (2 adults, 2 children). There is a two-day pass also for those who want to visit again.'\n",
            " 'Campuhan Ridge Walk is a free and easy nature trek, popular among regular visitors in the central highland town of Ubud. This trail presents a pristine outback to escape from the contemporary boutique, guesthouse and restaurant-lined Jalan Raya Ubud.'\n",
            " 'Yes, the basic Bali Safari and Marine Park entry fee is IDR 720,000 ($ 45.89 USD) for adults and IDR 576,000 ($ 36.71 USD) for children. Apart from this, if one wants to take a pickup service, they have to pay an extra amount of IDR 450,000 ($ 28.68 USD) per car for both ways'\n",
            " 'Yes, visit to the Bajra Sandhi Monument are subject to an entrance IDR 30,000 for adult and IDR 15,000 for child ($0.96 - 1.91 USD).'\n",
            " 'Yes, depending on location and places visited.'\n",
            " 'Yes, 50.000 - 75.000 IDR ($ 3.19 - 4.78 USD)'\n",
            " 'Yes, starting from 45.000 ($ 2.87 USD).'\n",
            " 'Yes, starting from 50.000 IDR ($ 3.48 USD).'\n",
            " 'Yes, starting from IDR 20.000 ($ 1.40 USD).'\n",
            " 'Yes, starting from IDR 100.000 ($ 6.37 USD).'\n",
            " 'Yes, starting from IDR 20.000 ($ 1.40 USD).'\n",
            " 'Yes, parking fee is included ranging from 5000 IDR (car) and IDR 2000 (motorcycle), ($ 0.13 - 0.32 USD).']\n"
          ]
        }
      ]
    },
    {
      "cell_type": "code",
      "source": [
        "from sklearn.model_selection import train_test_split\n",
        "x_train, x_test, y_train, y_test = train_test_split(x, y, test_size = 0.25, random_state = 0)"
      ],
      "metadata": {
        "id": "Gj3Q4fWWvHUX"
      },
      "execution_count": 7,
      "outputs": []
    },
    {
      "cell_type": "code",
      "source": [
        "print(x_train)"
      ],
      "metadata": {
        "colab": {
          "base_uri": "https://localhost:8080/"
        },
        "id": "i1Oj8qJCwugE",
        "outputId": "c6962bd1-7173-4d1c-828d-6efe7f06f8ae"
      },
      "execution_count": 8,
      "outputs": [
        {
          "output_type": "stream",
          "name": "stdout",
          "text": [
            "[['8.6595° S, 115.1301° E' 4.4]\n",
            " ['8.2105° S, 114.9671° E' 4.3]\n",
            " ['8° 35\\' 27.024\" S, 115° 20\\' 31.344\" E' 4.4]\n",
            " ['8°8′S 114°29′E' 4.5]\n",
            " ['8.6913° S, 115.1682° E' 4.5]\n",
            " ['8° 29′ 4.08″ S, 115° 26′ 41.02″ E' 4.3]\n",
            " ['8.3727° S, 115.1933° E' 4.6]\n",
            " ['8°22\\'07.1\"S 115°07\\'49.7\"E' 4.7]\n",
            " ['8° 24′ 52.8″ S, 115° 18′ 57.6″ E' 4.6]\n",
            " [' 8°25′19″S, 115°21′32″E' 4.8]\n",
            " ['8.7286° S, 115.1694° E' 4.7]\n",
            " ['8°14′20″S 115°22′39″E' 4.5]\n",
            " ['8° 23′ 29.24″ S, 115° 37′ 52.7″ E' 4.3]\n",
            " ['8.4028° S, 115.2880° E' 4.4]\n",
            " ['8.5036° S, 115.2547° E' 4.4]\n",
            " ['8.5069° S, 115.2625° E' 4.2]\n",
            " ['8°36′0″S 115°15′4″E' 4.6]\n",
            " ['8°29\\'36.9\"S 115°14\\'21.2\"E' 4.5]\n",
            " ['8.4123° S, 115.5873° E' 4.6]\n",
            " ['8.7941° S, 115.2302° E' 4.6]\n",
            " ['8° 16′ 31″ S, 115° 9′ 59″ E' 4.7]\n",
            " ['8.5516° S, 115.4688° E' 4.7]\n",
            " ['8.4631° S, 115.6307° E' 4.6]\n",
            " ['8.5194° S, 115.2606° E' 4.5]\n",
            " ['8.6212° S, 115.0868° E' 4.6]]\n"
          ]
        }
      ]
    },
    {
      "cell_type": "code",
      "source": [
        "len(x_train)"
      ],
      "metadata": {
        "colab": {
          "base_uri": "https://localhost:8080/"
        },
        "id": "kPMLjF5ewzWE",
        "outputId": "4597bdb3-e418-4ecc-b032-0955e7be9e14"
      },
      "execution_count": 9,
      "outputs": [
        {
          "output_type": "execute_result",
          "data": {
            "text/plain": [
              "25"
            ]
          },
          "metadata": {},
          "execution_count": 9
        }
      ]
    },
    {
      "cell_type": "code",
      "source": [
        "len(x)"
      ],
      "metadata": {
        "colab": {
          "base_uri": "https://localhost:8080/"
        },
        "id": "MtonEWIow7vH",
        "outputId": "b61221d4-4513-4261-8208-3a62fb25a5cc"
      },
      "execution_count": 10,
      "outputs": [
        {
          "output_type": "execute_result",
          "data": {
            "text/plain": [
              "34"
            ]
          },
          "metadata": {},
          "execution_count": 10
        }
      ]
    },
    {
      "cell_type": "code",
      "source": [
        "len(x_test)"
      ],
      "metadata": {
        "colab": {
          "base_uri": "https://localhost:8080/"
        },
        "id": "gezVu6-DxBVB",
        "outputId": "c07019e0-9058-41dc-e432-5eb23e9d5df1"
      },
      "execution_count": 11,
      "outputs": [
        {
          "output_type": "execute_result",
          "data": {
            "text/plain": [
              "9"
            ]
          },
          "metadata": {},
          "execution_count": 11
        }
      ]
    },
    {
      "cell_type": "code",
      "source": [
        "len(y)"
      ],
      "metadata": {
        "colab": {
          "base_uri": "https://localhost:8080/"
        },
        "id": "ayw1_a6sxHGr",
        "outputId": "e2610067-837e-4a9b-cfd2-226f4e8ed208"
      },
      "execution_count": 12,
      "outputs": [
        {
          "output_type": "execute_result",
          "data": {
            "text/plain": [
              "34"
            ]
          },
          "metadata": {},
          "execution_count": 12
        }
      ]
    },
    {
      "cell_type": "code",
      "source": [
        "len(y_test)"
      ],
      "metadata": {
        "colab": {
          "base_uri": "https://localhost:8080/"
        },
        "id": "kA6LbUF_xOjc",
        "outputId": "7aefaf52-6b02-4656-e652-5a90d1bcc580"
      },
      "execution_count": 13,
      "outputs": [
        {
          "output_type": "execute_result",
          "data": {
            "text/plain": [
              "9"
            ]
          },
          "metadata": {},
          "execution_count": 13
        }
      ]
    },
    {
      "cell_type": "code",
      "source": [
        "len(y_train)"
      ],
      "metadata": {
        "colab": {
          "base_uri": "https://localhost:8080/"
        },
        "id": "ri6AljtWxUC7",
        "outputId": "999ee45d-8994-42cf-cd4e-bfa7fcd68a19"
      },
      "execution_count": 14,
      "outputs": [
        {
          "output_type": "execute_result",
          "data": {
            "text/plain": [
              "25"
            ]
          },
          "metadata": {},
          "execution_count": 14
        }
      ]
    },
    {
      "cell_type": "code",
      "source": [
        "from sklearn.preprocessing import StandardScaler\n",
        "sc = StandardScaler()\n",
        "x_train = sc.fit_transform(x_train)\n",
        "x_test = sc.transform(x_test)"
      ],
      "metadata": {
        "id": "JA16bntmyjDZ"
      },
      "execution_count": null,
      "outputs": []
    },
    {
      "cell_type": "code",
      "source": [
        "print(x_train)"
      ],
      "metadata": {
        "colab": {
          "base_uri": "https://localhost:8080/"
        },
        "id": "Et3pu8yRyj7E",
        "outputId": "6f740574-5565-43aa-f266-55926ae934ed"
      },
      "execution_count": 16,
      "outputs": [
        {
          "output_type": "stream",
          "name": "stdout",
          "text": [
            "[['8.6595° S, 115.1301° E' 4.4]\n",
            " ['8.2105° S, 114.9671° E' 4.3]\n",
            " ['8° 35\\' 27.024\" S, 115° 20\\' 31.344\" E' 4.4]\n",
            " ['8°8′S 114°29′E' 4.5]\n",
            " ['8.6913° S, 115.1682° E' 4.5]\n",
            " ['8° 29′ 4.08″ S, 115° 26′ 41.02″ E' 4.3]\n",
            " ['8.3727° S, 115.1933° E' 4.6]\n",
            " ['8°22\\'07.1\"S 115°07\\'49.7\"E' 4.7]\n",
            " ['8° 24′ 52.8″ S, 115° 18′ 57.6″ E' 4.6]\n",
            " [' 8°25′19″S, 115°21′32″E' 4.8]\n",
            " ['8.7286° S, 115.1694° E' 4.7]\n",
            " ['8°14′20″S 115°22′39″E' 4.5]\n",
            " ['8° 23′ 29.24″ S, 115° 37′ 52.7″ E' 4.3]\n",
            " ['8.4028° S, 115.2880° E' 4.4]\n",
            " ['8.5036° S, 115.2547° E' 4.4]\n",
            " ['8.5069° S, 115.2625° E' 4.2]\n",
            " ['8°36′0″S 115°15′4″E' 4.6]\n",
            " ['8°29\\'36.9\"S 115°14\\'21.2\"E' 4.5]\n",
            " ['8.4123° S, 115.5873° E' 4.6]\n",
            " ['8.7941° S, 115.2302° E' 4.6]\n",
            " ['8° 16′ 31″ S, 115° 9′ 59″ E' 4.7]\n",
            " ['8.5516° S, 115.4688° E' 4.7]\n",
            " ['8.4631° S, 115.6307° E' 4.6]\n",
            " ['8.5194° S, 115.2606° E' 4.5]\n",
            " ['8.6212° S, 115.0868° E' 4.6]]\n"
          ]
        }
      ]
    },
    {
      "cell_type": "code",
      "source": [
        "print(x_test)"
      ],
      "metadata": {
        "colab": {
          "base_uri": "https://localhost:8080/"
        },
        "id": "otILKT0yyvo1",
        "outputId": "d14d0499-878e-416e-981f-847d9dc642e8"
      },
      "execution_count": 17,
      "outputs": [
        {
          "output_type": "stream",
          "name": "stdout",
          "text": [
            "[['8.7185° S, 115.1686° E' 4.5]\n",
            " ['8.5754° S, 115.2888° E' 4.3]\n",
            " ['8.6717° S, 115.2339° E' 4.6]\n",
            " ['8.5913° S, 115.2659° E' 4.4]\n",
            " ['8.8291° S, 115.0849° E' 4.6]\n",
            " ['8.5965° S, 115.2826° E' 4.3]\n",
            " ['8.4227° S, 115.2788° E' 4.5]\n",
            " ['8.8104° S, 115.1676° E' 4.5]\n",
            " ['8.3739° S, 115.4522° E' 4.5]]\n"
          ]
        }
      ]
    },
    {
      "cell_type": "code",
      "source": [
        "from sklearn.neighbors import KNeighborsClassifier\n",
        "classifier = KNeighborsClassifier(n_neighbors = 5, metric = 'minkowski', p=2)\n",
        "classifier.fit(x_train, y_train)"
      ],
      "metadata": {
        "id": "4XdSgosFznKE"
      },
      "execution_count": null,
      "outputs": []
    },
    {
      "cell_type": "code",
      "source": [
        "y_pred = classifier.predict(x_test)"
      ],
      "metadata": {
        "id": "P0yIfDZf00B0"
      },
      "execution_count": null,
      "outputs": []
    },
    {
      "cell_type": "code",
      "source": [
        "from sklearn.metrics import confusion_matrix\n",
        "cm = confusion_matrix(y_test, y_pred)\n",
        "print(cm)"
      ],
      "metadata": {
        "id": "a_hNGCQ61TQg"
      },
      "execution_count": null,
      "outputs": []
    },
    {
      "cell_type": "code",
      "source": [
        "from matplotlib.colors import ListedColormap\n",
        "x_set, y_set = x_train, y_train\n",
        "x1, x2 = np.meshgrid(np.arage(start=x_set[:, 0].min()-1, stop=x_set[:,0].max()+1, step=0.01)\n",
        "                     np.arage(start=x_set[:, 1].min()-1, stop=x_set[:,1].max()+1, step=0.01))"
      ],
      "metadata": {
        "id": "fCdyeBOv1VXX"
      },
      "execution_count": null,
      "outputs": []
    }
  ]
}